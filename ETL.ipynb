{
 "cells": [
  {
   "cell_type": "markdown",
   "metadata": {},
   "source": [
    "# ETL\n",
    "\n",
    "### Importación de Librerías"
   ]
  },
  {
   "cell_type": "code",
   "execution_count": 32,
   "metadata": {},
   "outputs": [],
   "source": [
    "import pandas as pd\n",
    "import numpy as np\n",
    "import warnings\n",
    "warnings.filterwarnings('ignore')"
   ]
  },
  {
   "cell_type": "markdown",
   "metadata": {},
   "source": [
    "### Lectura de los Archivos:"
   ]
  },
  {
   "cell_type": "markdown",
   "metadata": {},
   "source": [
    "A la lectura se le agregra \"na_values=['SD', 'sd']\", porque este parámetro indica qué valores se deben considerar como valores nulos (NaN) durante la lectura de datos"
   ]
  },
  {
   "cell_type": "code",
   "execution_count": 33,
   "metadata": {},
   "outputs": [],
   "source": [
    "hechos = pd.read_excel('datasets/homicidios.xlsx', sheet_name='HECHOS', na_values=['SD', 'sd', 'SD-SD'])\n",
    "victimas = pd.read_excel('datasets/homicidios.xlsx', sheet_name='VICTIMAS', na_values=['SD', 'sd', 'SD-SD'])"
   ]
  },
  {
   "cell_type": "markdown",
   "metadata": {},
   "source": [
    "-------------------------------------------------------------------------------------------------------"
   ]
  },
  {
   "cell_type": "markdown",
   "metadata": {},
   "source": [
    "## Transformación:\n",
    "\n",
    "### Hechos"
   ]
  },
  {
   "cell_type": "code",
   "execution_count": 34,
   "metadata": {},
   "outputs": [
    {
     "data": {
      "text/html": [
       "<div>\n",
       "<style scoped>\n",
       "    .dataframe tbody tr th:only-of-type {\n",
       "        vertical-align: middle;\n",
       "    }\n",
       "\n",
       "    .dataframe tbody tr th {\n",
       "        vertical-align: top;\n",
       "    }\n",
       "\n",
       "    .dataframe thead th {\n",
       "        text-align: right;\n",
       "    }\n",
       "</style>\n",
       "<table border=\"1\" class=\"dataframe\">\n",
       "  <thead>\n",
       "    <tr style=\"text-align: right;\">\n",
       "      <th></th>\n",
       "      <th>ID</th>\n",
       "      <th>N_VICTIMAS</th>\n",
       "      <th>FECHA</th>\n",
       "      <th>AAAA</th>\n",
       "      <th>MM</th>\n",
       "      <th>DD</th>\n",
       "      <th>HORA</th>\n",
       "      <th>HH</th>\n",
       "      <th>LUGAR_DEL_HECHO</th>\n",
       "      <th>TIPO_DE_CALLE</th>\n",
       "      <th>...</th>\n",
       "      <th>Altura</th>\n",
       "      <th>Cruce</th>\n",
       "      <th>Dirección Normalizada</th>\n",
       "      <th>COMUNA</th>\n",
       "      <th>XY (CABA)</th>\n",
       "      <th>pos x</th>\n",
       "      <th>pos y</th>\n",
       "      <th>PARTICIPANTES</th>\n",
       "      <th>VICTIMA</th>\n",
       "      <th>ACUSADO</th>\n",
       "    </tr>\n",
       "  </thead>\n",
       "  <tbody>\n",
       "    <tr>\n",
       "      <th>0</th>\n",
       "      <td>2016-0001</td>\n",
       "      <td>1</td>\n",
       "      <td>2016-01-01</td>\n",
       "      <td>2016</td>\n",
       "      <td>1</td>\n",
       "      <td>1</td>\n",
       "      <td>04:00:00</td>\n",
       "      <td>4.0</td>\n",
       "      <td>AV PIEDRA BUENA Y AV FERNANDEZ DE LA CRUZ</td>\n",
       "      <td>AVENIDA</td>\n",
       "      <td>...</td>\n",
       "      <td>NaN</td>\n",
       "      <td>FERNANDEZ DE LA CRUZ, F., GRAL. AV.</td>\n",
       "      <td>PIEDRA BUENA AV. y FERNANDEZ DE LA CRUZ, F., G...</td>\n",
       "      <td>8</td>\n",
       "      <td>Point (98896.78238426 93532.43437792)</td>\n",
       "      <td>-58.47533969</td>\n",
       "      <td>-34.68757022</td>\n",
       "      <td>MOTO-AUTO</td>\n",
       "      <td>MOTO</td>\n",
       "      <td>AUTO</td>\n",
       "    </tr>\n",
       "    <tr>\n",
       "      <th>1</th>\n",
       "      <td>2016-0002</td>\n",
       "      <td>1</td>\n",
       "      <td>2016-01-02</td>\n",
       "      <td>2016</td>\n",
       "      <td>1</td>\n",
       "      <td>2</td>\n",
       "      <td>01:15:00</td>\n",
       "      <td>1.0</td>\n",
       "      <td>AV GRAL PAZ  Y AV DE LOS CORRALES</td>\n",
       "      <td>GRAL PAZ</td>\n",
       "      <td>...</td>\n",
       "      <td>NaN</td>\n",
       "      <td>DE LOS CORRALES AV.</td>\n",
       "      <td>PAZ, GRAL. AV. y DE LOS CORRALES AV.</td>\n",
       "      <td>9</td>\n",
       "      <td>Point (95832.05571093 95505.41641999)</td>\n",
       "      <td>-58.50877521</td>\n",
       "      <td>-34.66977709</td>\n",
       "      <td>AUTO-PASAJEROS</td>\n",
       "      <td>AUTO</td>\n",
       "      <td>PASAJEROS</td>\n",
       "    </tr>\n",
       "    <tr>\n",
       "      <th>2</th>\n",
       "      <td>2016-0003</td>\n",
       "      <td>1</td>\n",
       "      <td>2016-01-03</td>\n",
       "      <td>2016</td>\n",
       "      <td>1</td>\n",
       "      <td>3</td>\n",
       "      <td>07:00:00</td>\n",
       "      <td>7.0</td>\n",
       "      <td>AV ENTRE RIOS 2034</td>\n",
       "      <td>AVENIDA</td>\n",
       "      <td>...</td>\n",
       "      <td>2034.0</td>\n",
       "      <td>NaN</td>\n",
       "      <td>ENTRE RIOS AV. 2034</td>\n",
       "      <td>1</td>\n",
       "      <td>Point (106684.29090040 99706.57687843)</td>\n",
       "      <td>-58.39040293</td>\n",
       "      <td>-34.63189362</td>\n",
       "      <td>MOTO-AUTO</td>\n",
       "      <td>MOTO</td>\n",
       "      <td>AUTO</td>\n",
       "    </tr>\n",
       "    <tr>\n",
       "      <th>3</th>\n",
       "      <td>2016-0004</td>\n",
       "      <td>1</td>\n",
       "      <td>2016-01-10</td>\n",
       "      <td>2016</td>\n",
       "      <td>1</td>\n",
       "      <td>10</td>\n",
       "      <td>00:00:00</td>\n",
       "      <td>0.0</td>\n",
       "      <td>AV LARRAZABAL Y GRAL VILLEGAS CONRADO</td>\n",
       "      <td>AVENIDA</td>\n",
       "      <td>...</td>\n",
       "      <td>NaN</td>\n",
       "      <td>VILLEGAS, CONRADO, GRAL.</td>\n",
       "      <td>LARRAZABAL AV. y VILLEGAS, CONRADO, GRAL.</td>\n",
       "      <td>8</td>\n",
       "      <td>Point (99840.65224780 94269.16534422)</td>\n",
       "      <td>-58.46503904</td>\n",
       "      <td>-34.68092974</td>\n",
       "      <td>MOTO-SD</td>\n",
       "      <td>MOTO</td>\n",
       "      <td>NaN</td>\n",
       "    </tr>\n",
       "    <tr>\n",
       "      <th>4</th>\n",
       "      <td>2016-0005</td>\n",
       "      <td>1</td>\n",
       "      <td>2016-01-21</td>\n",
       "      <td>2016</td>\n",
       "      <td>1</td>\n",
       "      <td>21</td>\n",
       "      <td>05:20:00</td>\n",
       "      <td>5.0</td>\n",
       "      <td>AV SAN JUAN Y PRESIDENTE LUIS SAENZ PEÑA</td>\n",
       "      <td>AVENIDA</td>\n",
       "      <td>...</td>\n",
       "      <td>NaN</td>\n",
       "      <td>SAENZ PE?A, LUIS, PRES.</td>\n",
       "      <td>SAN JUAN AV. y SAENZ PEÃ‘A, LUIS, PRES.</td>\n",
       "      <td>1</td>\n",
       "      <td>Point (106980.32827929 100752.16915795)</td>\n",
       "      <td>-58.38718297</td>\n",
       "      <td>-34.62246630</td>\n",
       "      <td>MOTO-PASAJEROS</td>\n",
       "      <td>MOTO</td>\n",
       "      <td>PASAJEROS</td>\n",
       "    </tr>\n",
       "  </tbody>\n",
       "</table>\n",
       "<p>5 rows × 21 columns</p>\n",
       "</div>"
      ],
      "text/plain": [
       "          ID  N_VICTIMAS      FECHA  AAAA  MM  DD      HORA   HH  \\\n",
       "0  2016-0001           1 2016-01-01  2016   1   1  04:00:00  4.0   \n",
       "1  2016-0002           1 2016-01-02  2016   1   2  01:15:00  1.0   \n",
       "2  2016-0003           1 2016-01-03  2016   1   3  07:00:00  7.0   \n",
       "3  2016-0004           1 2016-01-10  2016   1  10  00:00:00  0.0   \n",
       "4  2016-0005           1 2016-01-21  2016   1  21  05:20:00  5.0   \n",
       "\n",
       "                             LUGAR_DEL_HECHO TIPO_DE_CALLE  ...  Altura  \\\n",
       "0  AV PIEDRA BUENA Y AV FERNANDEZ DE LA CRUZ       AVENIDA  ...     NaN   \n",
       "1          AV GRAL PAZ  Y AV DE LOS CORRALES      GRAL PAZ  ...     NaN   \n",
       "2                         AV ENTRE RIOS 2034       AVENIDA  ...  2034.0   \n",
       "3      AV LARRAZABAL Y GRAL VILLEGAS CONRADO       AVENIDA  ...     NaN   \n",
       "4  AV SAN JUAN Y PRESIDENTE LUIS SAENZ PEÑA        AVENIDA  ...     NaN   \n",
       "\n",
       "                                 Cruce  \\\n",
       "0  FERNANDEZ DE LA CRUZ, F., GRAL. AV.   \n",
       "1                  DE LOS CORRALES AV.   \n",
       "2                                  NaN   \n",
       "3             VILLEGAS, CONRADO, GRAL.   \n",
       "4              SAENZ PE?A, LUIS, PRES.   \n",
       "\n",
       "                               Dirección Normalizada COMUNA  \\\n",
       "0  PIEDRA BUENA AV. y FERNANDEZ DE LA CRUZ, F., G...      8   \n",
       "1               PAZ, GRAL. AV. y DE LOS CORRALES AV.      9   \n",
       "2                                ENTRE RIOS AV. 2034      1   \n",
       "3          LARRAZABAL AV. y VILLEGAS, CONRADO, GRAL.      8   \n",
       "4            SAN JUAN AV. y SAENZ PEÃ‘A, LUIS, PRES.      1   \n",
       "\n",
       "                                 XY (CABA)         pos x         pos y  \\\n",
       "0    Point (98896.78238426 93532.43437792)  -58.47533969  -34.68757022   \n",
       "1    Point (95832.05571093 95505.41641999)  -58.50877521  -34.66977709   \n",
       "2   Point (106684.29090040 99706.57687843)  -58.39040293  -34.63189362   \n",
       "3    Point (99840.65224780 94269.16534422)  -58.46503904  -34.68092974   \n",
       "4  Point (106980.32827929 100752.16915795)  -58.38718297  -34.62246630   \n",
       "\n",
       "    PARTICIPANTES VICTIMA    ACUSADO  \n",
       "0       MOTO-AUTO    MOTO       AUTO  \n",
       "1  AUTO-PASAJEROS    AUTO  PASAJEROS  \n",
       "2       MOTO-AUTO    MOTO       AUTO  \n",
       "3         MOTO-SD    MOTO        NaN  \n",
       "4  MOTO-PASAJEROS    MOTO  PASAJEROS  \n",
       "\n",
       "[5 rows x 21 columns]"
      ]
     },
     "execution_count": 34,
     "metadata": {},
     "output_type": "execute_result"
    }
   ],
   "source": [
    "hechos.head(5)"
   ]
  },
  {
   "cell_type": "markdown",
   "metadata": {},
   "source": [
    "#### Eliminacion de columnas "
   ]
  },
  {
   "cell_type": "code",
   "execution_count": 35,
   "metadata": {},
   "outputs": [
    {
     "data": {
      "text/plain": [
       "Index(['ID', 'N_VICTIMAS', 'FECHA', 'AAAA', 'MM', 'DD', 'HORA', 'HH',\n",
       "       'LUGAR_DEL_HECHO', 'TIPO_DE_CALLE', 'Calle', 'Altura', 'Cruce',\n",
       "       'Dirección Normalizada', 'COMUNA', 'XY (CABA)', 'pos x', 'pos y',\n",
       "       'PARTICIPANTES', 'VICTIMA', 'ACUSADO'],\n",
       "      dtype='object')"
      ]
     },
     "execution_count": 35,
     "metadata": {},
     "output_type": "execute_result"
    }
   ],
   "source": [
    "hechos.columns"
   ]
  },
  {
   "cell_type": "markdown",
   "metadata": {},
   "source": [
    "La columna FECHA será conservada, mientras que las columnas AAAA, DD y MM, que hacen referencia a información de la fecha, serán eliminadas"
   ]
  },
  {
   "cell_type": "code",
   "execution_count": 36,
   "metadata": {},
   "outputs": [],
   "source": [
    "hechos.drop(['AAAA', 'MM','DD'], axis=1 , inplace=True)"
   ]
  },
  {
   "cell_type": "markdown",
   "metadata": {},
   "source": [
    "Para la ubicación del hecho, se ha decidido utilizar las columnas Dirección Normalizada, pos X y pos Y, que hacen referencia a la latitud y la longitud respectivamente. Por lo tanto, se procederá a eliminar las siguiente columnas:\n",
    "* LUGAR_DEL_HECHO\n",
    "* Calle \n",
    "* Altura\n",
    "* Cruce\n",
    "* XY (CABA)"
   ]
  },
  {
   "cell_type": "code",
   "execution_count": 37,
   "metadata": {},
   "outputs": [],
   "source": [
    "hechos.drop(['Dirección Normalizada','LUGAR_DEL_HECHO', 'Calle', 'Altura' ,'Cruce','XY (CABA)'], axis=1 , inplace=True)"
   ]
  },
  {
   "cell_type": "markdown",
   "metadata": {},
   "source": [
    "#### Valores nulos"
   ]
  },
  {
   "cell_type": "code",
   "execution_count": 38,
   "metadata": {},
   "outputs": [
    {
     "name": "stdout",
     "output_type": "stream",
     "text": [
      "Hay 0 valores nulos en ID\n",
      "Hay 0 valores nulos en N_VICTIMAS\n",
      "Hay 0 valores nulos en FECHA\n",
      "Hay 1 valores nulos en HORA\n",
      "Hay 1 valores nulos en HH\n",
      "Hay 0 valores nulos en TIPO_DE_CALLE\n",
      "Hay 0 valores nulos en COMUNA\n",
      "Hay 0 valores nulos en pos x\n",
      "Hay 0 valores nulos en pos y\n",
      "Hay 5 valores nulos en PARTICIPANTES\n",
      "Hay 9 valores nulos en VICTIMA\n",
      "Hay 23 valores nulos en ACUSADO\n"
     ]
    }
   ],
   "source": [
    "# Ahora identifico la cantidad de valores nulos que qudaron en el dataset\n",
    "for column in hechos.columns:\n",
    "    print(f'Hay {hechos[column].isna().sum()} valores nulos en {column}')"
   ]
  },
  {
   "cell_type": "markdown",
   "metadata": {},
   "source": [
    "Se identifico irregularidades en la columna de \"Comuna\", donde la presencia de \"Comuna 0\" indica una inconsistencia, ya que las comunas deben estar en el rango de 1 a 15. Estos casos también serán tratados como valores nulos. Además, se observaron puntos en la columnas \"Pos X\" y \"Pos Y\", y se decidira reemplazarlos por valores nulos para mantener la consistencia en la repretanción de coordenadas geograficas"
   ]
  },
  {
   "cell_type": "code",
   "execution_count": 39,
   "metadata": {},
   "outputs": [
    {
     "data": {
      "text/html": [
       "<div>\n",
       "<style scoped>\n",
       "    .dataframe tbody tr th:only-of-type {\n",
       "        vertical-align: middle;\n",
       "    }\n",
       "\n",
       "    .dataframe tbody tr th {\n",
       "        vertical-align: top;\n",
       "    }\n",
       "\n",
       "    .dataframe thead th {\n",
       "        text-align: right;\n",
       "    }\n",
       "</style>\n",
       "<table border=\"1\" class=\"dataframe\">\n",
       "  <thead>\n",
       "    <tr style=\"text-align: right;\">\n",
       "      <th></th>\n",
       "      <th>ID</th>\n",
       "      <th>N_VICTIMAS</th>\n",
       "      <th>FECHA</th>\n",
       "      <th>HORA</th>\n",
       "      <th>HH</th>\n",
       "      <th>TIPO_DE_CALLE</th>\n",
       "      <th>COMUNA</th>\n",
       "      <th>pos x</th>\n",
       "      <th>pos y</th>\n",
       "      <th>PARTICIPANTES</th>\n",
       "      <th>VICTIMA</th>\n",
       "      <th>ACUSADO</th>\n",
       "    </tr>\n",
       "  </thead>\n",
       "  <tbody>\n",
       "    <tr>\n",
       "      <th>119</th>\n",
       "      <td>2016-0151</td>\n",
       "      <td>1</td>\n",
       "      <td>2016-11-18</td>\n",
       "      <td>20:35:00</td>\n",
       "      <td>20.0</td>\n",
       "      <td>CALLE</td>\n",
       "      <td>0</td>\n",
       "      <td>.</td>\n",
       "      <td>.</td>\n",
       "      <td>PEATON-SD</td>\n",
       "      <td>PEATON</td>\n",
       "      <td>NaN</td>\n",
       "    </tr>\n",
       "    <tr>\n",
       "      <th>139</th>\n",
       "      <td>2016-0174</td>\n",
       "      <td>1</td>\n",
       "      <td>2016-12-27</td>\n",
       "      <td>00:00:00</td>\n",
       "      <td>0.0</td>\n",
       "      <td>AUTOPISTA</td>\n",
       "      <td>0</td>\n",
       "      <td>.</td>\n",
       "      <td>.</td>\n",
       "      <td>NaN</td>\n",
       "      <td>NaN</td>\n",
       "      <td>NaN</td>\n",
       "    </tr>\n",
       "  </tbody>\n",
       "</table>\n",
       "</div>"
      ],
      "text/plain": [
       "            ID  N_VICTIMAS      FECHA      HORA    HH TIPO_DE_CALLE  COMUNA  \\\n",
       "119  2016-0151           1 2016-11-18  20:35:00  20.0         CALLE       0   \n",
       "139  2016-0174           1 2016-12-27  00:00:00   0.0     AUTOPISTA       0   \n",
       "\n",
       "    pos x pos y PARTICIPANTES VICTIMA ACUSADO  \n",
       "119     .     .     PEATON-SD  PEATON     NaN  \n",
       "139     .     .           NaN     NaN     NaN  "
      ]
     },
     "execution_count": 39,
     "metadata": {},
     "output_type": "execute_result"
    }
   ],
   "source": [
    "hechos[hechos['COMUNA'] == 0]"
   ]
  },
  {
   "cell_type": "code",
   "execution_count": 40,
   "metadata": {},
   "outputs": [
    {
     "data": {
      "text/html": [
       "<div>\n",
       "<style scoped>\n",
       "    .dataframe tbody tr th:only-of-type {\n",
       "        vertical-align: middle;\n",
       "    }\n",
       "\n",
       "    .dataframe tbody tr th {\n",
       "        vertical-align: top;\n",
       "    }\n",
       "\n",
       "    .dataframe thead th {\n",
       "        text-align: right;\n",
       "    }\n",
       "</style>\n",
       "<table border=\"1\" class=\"dataframe\">\n",
       "  <thead>\n",
       "    <tr style=\"text-align: right;\">\n",
       "      <th></th>\n",
       "      <th>ID</th>\n",
       "      <th>N_VICTIMAS</th>\n",
       "      <th>FECHA</th>\n",
       "      <th>HORA</th>\n",
       "      <th>HH</th>\n",
       "      <th>TIPO_DE_CALLE</th>\n",
       "      <th>COMUNA</th>\n",
       "      <th>pos x</th>\n",
       "      <th>pos y</th>\n",
       "      <th>PARTICIPANTES</th>\n",
       "      <th>VICTIMA</th>\n",
       "      <th>ACUSADO</th>\n",
       "    </tr>\n",
       "  </thead>\n",
       "  <tbody>\n",
       "    <tr>\n",
       "      <th>38</th>\n",
       "      <td>2016-0052</td>\n",
       "      <td>1</td>\n",
       "      <td>2016-04-20</td>\n",
       "      <td>20:00:00</td>\n",
       "      <td>20.0</td>\n",
       "      <td>AUTOPISTA</td>\n",
       "      <td>13</td>\n",
       "      <td>.</td>\n",
       "      <td>.</td>\n",
       "      <td>MOTO-SD</td>\n",
       "      <td>MOTO</td>\n",
       "      <td>NaN</td>\n",
       "    </tr>\n",
       "    <tr>\n",
       "      <th>106</th>\n",
       "      <td>2016-0136</td>\n",
       "      <td>1</td>\n",
       "      <td>2016-10-25</td>\n",
       "      <td>00:00:00</td>\n",
       "      <td>0.0</td>\n",
       "      <td>AUTOPISTA</td>\n",
       "      <td>4</td>\n",
       "      <td>.</td>\n",
       "      <td>.</td>\n",
       "      <td>MOTO-CARGAS</td>\n",
       "      <td>MOTO</td>\n",
       "      <td>CARGAS</td>\n",
       "    </tr>\n",
       "    <tr>\n",
       "      <th>119</th>\n",
       "      <td>2016-0151</td>\n",
       "      <td>1</td>\n",
       "      <td>2016-11-18</td>\n",
       "      <td>20:35:00</td>\n",
       "      <td>20.0</td>\n",
       "      <td>CALLE</td>\n",
       "      <td>0</td>\n",
       "      <td>.</td>\n",
       "      <td>.</td>\n",
       "      <td>PEATON-SD</td>\n",
       "      <td>PEATON</td>\n",
       "      <td>NaN</td>\n",
       "    </tr>\n",
       "    <tr>\n",
       "      <th>139</th>\n",
       "      <td>2016-0174</td>\n",
       "      <td>1</td>\n",
       "      <td>2016-12-27</td>\n",
       "      <td>00:00:00</td>\n",
       "      <td>0.0</td>\n",
       "      <td>AUTOPISTA</td>\n",
       "      <td>0</td>\n",
       "      <td>.</td>\n",
       "      <td>.</td>\n",
       "      <td>NaN</td>\n",
       "      <td>NaN</td>\n",
       "      <td>NaN</td>\n",
       "    </tr>\n",
       "    <tr>\n",
       "      <th>176</th>\n",
       "      <td>2017-0042</td>\n",
       "      <td>1</td>\n",
       "      <td>2017-04-10</td>\n",
       "      <td>09:00:00</td>\n",
       "      <td>9.0</td>\n",
       "      <td>GRAL PAZ</td>\n",
       "      <td>14</td>\n",
       "      <td>.</td>\n",
       "      <td>.</td>\n",
       "      <td>MOTO-CARGAS</td>\n",
       "      <td>MOTO</td>\n",
       "      <td>CARGAS</td>\n",
       "    </tr>\n",
       "  </tbody>\n",
       "</table>\n",
       "</div>"
      ],
      "text/plain": [
       "            ID  N_VICTIMAS      FECHA      HORA    HH TIPO_DE_CALLE  COMUNA  \\\n",
       "38   2016-0052           1 2016-04-20  20:00:00  20.0     AUTOPISTA      13   \n",
       "106  2016-0136           1 2016-10-25  00:00:00   0.0     AUTOPISTA       4   \n",
       "119  2016-0151           1 2016-11-18  20:35:00  20.0         CALLE       0   \n",
       "139  2016-0174           1 2016-12-27  00:00:00   0.0     AUTOPISTA       0   \n",
       "176  2017-0042           1 2017-04-10  09:00:00   9.0      GRAL PAZ      14   \n",
       "\n",
       "    pos x pos y PARTICIPANTES VICTIMA ACUSADO  \n",
       "38      .     .       MOTO-SD    MOTO     NaN  \n",
       "106     .     .   MOTO-CARGAS    MOTO  CARGAS  \n",
       "119     .     .     PEATON-SD  PEATON     NaN  \n",
       "139     .     .           NaN     NaN     NaN  \n",
       "176     .     .   MOTO-CARGAS    MOTO  CARGAS  "
      ]
     },
     "execution_count": 40,
     "metadata": {},
     "output_type": "execute_result"
    }
   ],
   "source": [
    "latitud_longitud = hechos[(hechos['pos x'] == '.') & (hechos['pos y'] == '.')]\n",
    "latitud_longitud.head(5)"
   ]
  },
  {
   "cell_type": "code",
   "execution_count": 41,
   "metadata": {},
   "outputs": [],
   "source": [
    "# Reemplazo de la columna \"Comuna\" los valores que son 0 y los convierto en NaN\n",
    "hechos.loc[hechos['COMUNA'] == 0, 'COMUNA'] = np.nan\n",
    "\n",
    "# Reemplazo los . por valores nulos en las columnas pos x y pos y\n",
    "hechos.loc[hechos['pos x'] == '.', 'pos x'] = np.nan\n",
    "hechos.loc[hechos['pos y'] == '.', 'pos y'] = np.nan"
   ]
  },
  {
   "cell_type": "code",
   "execution_count": 42,
   "metadata": {},
   "outputs": [
    {
     "data": {
      "text/html": [
       "<div>\n",
       "<style scoped>\n",
       "    .dataframe tbody tr th:only-of-type {\n",
       "        vertical-align: middle;\n",
       "    }\n",
       "\n",
       "    .dataframe tbody tr th {\n",
       "        vertical-align: top;\n",
       "    }\n",
       "\n",
       "    .dataframe thead th {\n",
       "        text-align: right;\n",
       "    }\n",
       "</style>\n",
       "<table border=\"1\" class=\"dataframe\">\n",
       "  <thead>\n",
       "    <tr style=\"text-align: right;\">\n",
       "      <th></th>\n",
       "      <th>ID</th>\n",
       "      <th>N_VICTIMAS</th>\n",
       "      <th>FECHA</th>\n",
       "      <th>HORA</th>\n",
       "      <th>HH</th>\n",
       "      <th>TIPO_DE_CALLE</th>\n",
       "      <th>COMUNA</th>\n",
       "      <th>pos x</th>\n",
       "      <th>pos y</th>\n",
       "      <th>PARTICIPANTES</th>\n",
       "      <th>VICTIMA</th>\n",
       "      <th>ACUSADO</th>\n",
       "    </tr>\n",
       "  </thead>\n",
       "  <tbody>\n",
       "    <tr>\n",
       "      <th>0</th>\n",
       "      <td>2016-0001</td>\n",
       "      <td>1</td>\n",
       "      <td>2016-01-01</td>\n",
       "      <td>04:00:00</td>\n",
       "      <td>4.0</td>\n",
       "      <td>AVENIDA</td>\n",
       "      <td>8.0</td>\n",
       "      <td>-58.47533969</td>\n",
       "      <td>-34.68757022</td>\n",
       "      <td>MOTO-AUTO</td>\n",
       "      <td>MOTO</td>\n",
       "      <td>AUTO</td>\n",
       "    </tr>\n",
       "    <tr>\n",
       "      <th>1</th>\n",
       "      <td>2016-0002</td>\n",
       "      <td>1</td>\n",
       "      <td>2016-01-02</td>\n",
       "      <td>01:15:00</td>\n",
       "      <td>1.0</td>\n",
       "      <td>GRAL PAZ</td>\n",
       "      <td>9.0</td>\n",
       "      <td>-58.50877521</td>\n",
       "      <td>-34.66977709</td>\n",
       "      <td>AUTO-PASAJEROS</td>\n",
       "      <td>AUTO</td>\n",
       "      <td>PASAJEROS</td>\n",
       "    </tr>\n",
       "    <tr>\n",
       "      <th>2</th>\n",
       "      <td>2016-0003</td>\n",
       "      <td>1</td>\n",
       "      <td>2016-01-03</td>\n",
       "      <td>07:00:00</td>\n",
       "      <td>7.0</td>\n",
       "      <td>AVENIDA</td>\n",
       "      <td>1.0</td>\n",
       "      <td>-58.39040293</td>\n",
       "      <td>-34.63189362</td>\n",
       "      <td>MOTO-AUTO</td>\n",
       "      <td>MOTO</td>\n",
       "      <td>AUTO</td>\n",
       "    </tr>\n",
       "    <tr>\n",
       "      <th>3</th>\n",
       "      <td>2016-0004</td>\n",
       "      <td>1</td>\n",
       "      <td>2016-01-10</td>\n",
       "      <td>00:00:00</td>\n",
       "      <td>0.0</td>\n",
       "      <td>AVENIDA</td>\n",
       "      <td>8.0</td>\n",
       "      <td>-58.46503904</td>\n",
       "      <td>-34.68092974</td>\n",
       "      <td>MOTO-SD</td>\n",
       "      <td>MOTO</td>\n",
       "      <td>NaN</td>\n",
       "    </tr>\n",
       "    <tr>\n",
       "      <th>4</th>\n",
       "      <td>2016-0005</td>\n",
       "      <td>1</td>\n",
       "      <td>2016-01-21</td>\n",
       "      <td>05:20:00</td>\n",
       "      <td>5.0</td>\n",
       "      <td>AVENIDA</td>\n",
       "      <td>1.0</td>\n",
       "      <td>-58.38718297</td>\n",
       "      <td>-34.62246630</td>\n",
       "      <td>MOTO-PASAJEROS</td>\n",
       "      <td>MOTO</td>\n",
       "      <td>PASAJEROS</td>\n",
       "    </tr>\n",
       "  </tbody>\n",
       "</table>\n",
       "</div>"
      ],
      "text/plain": [
       "          ID  N_VICTIMAS      FECHA      HORA   HH TIPO_DE_CALLE  COMUNA  \\\n",
       "0  2016-0001           1 2016-01-01  04:00:00  4.0       AVENIDA     8.0   \n",
       "1  2016-0002           1 2016-01-02  01:15:00  1.0      GRAL PAZ     9.0   \n",
       "2  2016-0003           1 2016-01-03  07:00:00  7.0       AVENIDA     1.0   \n",
       "3  2016-0004           1 2016-01-10  00:00:00  0.0       AVENIDA     8.0   \n",
       "4  2016-0005           1 2016-01-21  05:20:00  5.0       AVENIDA     1.0   \n",
       "\n",
       "          pos x         pos y   PARTICIPANTES VICTIMA    ACUSADO  \n",
       "0  -58.47533969  -34.68757022       MOTO-AUTO    MOTO       AUTO  \n",
       "1  -58.50877521  -34.66977709  AUTO-PASAJEROS    AUTO  PASAJEROS  \n",
       "2  -58.39040293  -34.63189362       MOTO-AUTO    MOTO       AUTO  \n",
       "3  -58.46503904  -34.68092974         MOTO-SD    MOTO        NaN  \n",
       "4  -58.38718297  -34.62246630  MOTO-PASAJEROS    MOTO  PASAJEROS  "
      ]
     },
     "execution_count": 42,
     "metadata": {},
     "output_type": "execute_result"
    }
   ],
   "source": [
    "hechos.head(5)"
   ]
  },
  {
   "cell_type": "code",
   "execution_count": 43,
   "metadata": {},
   "outputs": [
    {
     "name": "stdout",
     "output_type": "stream",
     "text": [
      "Hay 0 valores nulos en ID\n",
      "Hay 0 valores nulos en N_VICTIMAS\n",
      "Hay 0 valores nulos en FECHA\n",
      "Hay 1 valores nulos en HORA\n",
      "Hay 1 valores nulos en HH\n",
      "Hay 0 valores nulos en TIPO_DE_CALLE\n",
      "Hay 2 valores nulos en COMUNA\n",
      "Hay 12 valores nulos en pos x\n",
      "Hay 12 valores nulos en pos y\n",
      "Hay 5 valores nulos en PARTICIPANTES\n",
      "Hay 9 valores nulos en VICTIMA\n",
      "Hay 23 valores nulos en ACUSADO\n"
     ]
    }
   ],
   "source": [
    "# Ahora identifico nuevamente la cantidad de valores nulos que qudaron en el dataframe\n",
    "for column in hechos.columns:\n",
    "    print(f'Hay {hechos[column].isna().sum()} valores nulos en {column}')"
   ]
  },
  {
   "cell_type": "markdown",
   "metadata": {},
   "source": [
    "#### Modificacion de las columnas:\n",
    "* Renombrar columnas\n",
    "* Creacion de una nueva columna"
   ]
  },
  {
   "cell_type": "markdown",
   "metadata": {},
   "source": [
    "Convierto el nombre de las columnas a minuscula"
   ]
  },
  {
   "cell_type": "code",
   "execution_count": 44,
   "metadata": {},
   "outputs": [
    {
     "data": {
      "text/plain": [
       "Index(['id_hecho', 'n_victimas', 'fecha', 'hora', 'hh', 'tipo_calle', 'comuna',\n",
       "       'longitud', 'latitud', 'participantes', 'victima', 'acusado'],\n",
       "      dtype='object')"
      ]
     },
     "execution_count": 44,
     "metadata": {},
     "output_type": "execute_result"
    }
   ],
   "source": [
    "# Definir un diccionario con los nuevos nombres de las columnas\n",
    "nuevos_nombres = {\n",
    "    'ID': 'id_hecho',\n",
    "    'N_VICTIMAS': 'n_victimas',\n",
    "    'FECHA': 'fecha',\n",
    "    'HORA': 'hora',\n",
    "    'HH': 'hh',\n",
    "    'LUGAR_DEL_HECHO': 'lugar_del_hecho',\n",
    "    'TIPO_DE_CALLE': 'tipo_calle',\n",
    "    'Calle': 'calle',\n",
    "    'COMUNA': 'comuna',\n",
    "    'pos x': 'longitud',\n",
    "    'pos y': 'latitud',\n",
    "    'PARTICIPANTES': 'participantes',\n",
    "    'VICTIMA': 'victima',\n",
    "    'ACUSADO': 'acusado'\n",
    "}\n",
    "\n",
    "# Renombrar las columnas del DataFrame\n",
    "hechos = hechos.rename(columns=nuevos_nombres)\n",
    "hechos.columns"
   ]
  },
  {
   "cell_type": "markdown",
   "metadata": {},
   "source": [
    "-----------------------------------------------"
   ]
  },
  {
   "cell_type": "markdown",
   "metadata": {},
   "source": [
    "### VICTIMAS"
   ]
  },
  {
   "cell_type": "code",
   "execution_count": 45,
   "metadata": {},
   "outputs": [
    {
     "data": {
      "text/html": [
       "<div>\n",
       "<style scoped>\n",
       "    .dataframe tbody tr th:only-of-type {\n",
       "        vertical-align: middle;\n",
       "    }\n",
       "\n",
       "    .dataframe tbody tr th {\n",
       "        vertical-align: top;\n",
       "    }\n",
       "\n",
       "    .dataframe thead th {\n",
       "        text-align: right;\n",
       "    }\n",
       "</style>\n",
       "<table border=\"1\" class=\"dataframe\">\n",
       "  <thead>\n",
       "    <tr style=\"text-align: right;\">\n",
       "      <th></th>\n",
       "      <th>ID_hecho</th>\n",
       "      <th>FECHA</th>\n",
       "      <th>AAAA</th>\n",
       "      <th>MM</th>\n",
       "      <th>DD</th>\n",
       "      <th>ROL</th>\n",
       "      <th>VICTIMA</th>\n",
       "      <th>SEXO</th>\n",
       "      <th>EDAD</th>\n",
       "      <th>FECHA_FALLECIMIENTO</th>\n",
       "    </tr>\n",
       "  </thead>\n",
       "  <tbody>\n",
       "    <tr>\n",
       "      <th>0</th>\n",
       "      <td>2016-0001</td>\n",
       "      <td>2016-01-01</td>\n",
       "      <td>2016</td>\n",
       "      <td>1</td>\n",
       "      <td>1</td>\n",
       "      <td>CONDUCTOR</td>\n",
       "      <td>MOTO</td>\n",
       "      <td>MASCULINO</td>\n",
       "      <td>19.0</td>\n",
       "      <td>2016-01-01 00:00:00</td>\n",
       "    </tr>\n",
       "    <tr>\n",
       "      <th>1</th>\n",
       "      <td>2016-0002</td>\n",
       "      <td>2016-01-02</td>\n",
       "      <td>2016</td>\n",
       "      <td>1</td>\n",
       "      <td>2</td>\n",
       "      <td>CONDUCTOR</td>\n",
       "      <td>AUTO</td>\n",
       "      <td>MASCULINO</td>\n",
       "      <td>70.0</td>\n",
       "      <td>2016-01-02 00:00:00</td>\n",
       "    </tr>\n",
       "    <tr>\n",
       "      <th>2</th>\n",
       "      <td>2016-0003</td>\n",
       "      <td>2016-01-03</td>\n",
       "      <td>2016</td>\n",
       "      <td>1</td>\n",
       "      <td>3</td>\n",
       "      <td>CONDUCTOR</td>\n",
       "      <td>MOTO</td>\n",
       "      <td>MASCULINO</td>\n",
       "      <td>30.0</td>\n",
       "      <td>2016-01-03 00:00:00</td>\n",
       "    </tr>\n",
       "    <tr>\n",
       "      <th>3</th>\n",
       "      <td>2016-0004</td>\n",
       "      <td>2016-01-10</td>\n",
       "      <td>2016</td>\n",
       "      <td>1</td>\n",
       "      <td>10</td>\n",
       "      <td>CONDUCTOR</td>\n",
       "      <td>MOTO</td>\n",
       "      <td>MASCULINO</td>\n",
       "      <td>18.0</td>\n",
       "      <td>NaN</td>\n",
       "    </tr>\n",
       "    <tr>\n",
       "      <th>4</th>\n",
       "      <td>2016-0005</td>\n",
       "      <td>2016-01-21</td>\n",
       "      <td>2016</td>\n",
       "      <td>1</td>\n",
       "      <td>21</td>\n",
       "      <td>CONDUCTOR</td>\n",
       "      <td>MOTO</td>\n",
       "      <td>MASCULINO</td>\n",
       "      <td>29.0</td>\n",
       "      <td>2016-02-01 00:00:00</td>\n",
       "    </tr>\n",
       "  </tbody>\n",
       "</table>\n",
       "</div>"
      ],
      "text/plain": [
       "    ID_hecho      FECHA  AAAA  MM  DD        ROL VICTIMA       SEXO  EDAD  \\\n",
       "0  2016-0001 2016-01-01  2016   1   1  CONDUCTOR    MOTO  MASCULINO  19.0   \n",
       "1  2016-0002 2016-01-02  2016   1   2  CONDUCTOR    AUTO  MASCULINO  70.0   \n",
       "2  2016-0003 2016-01-03  2016   1   3  CONDUCTOR    MOTO  MASCULINO  30.0   \n",
       "3  2016-0004 2016-01-10  2016   1  10  CONDUCTOR    MOTO  MASCULINO  18.0   \n",
       "4  2016-0005 2016-01-21  2016   1  21  CONDUCTOR    MOTO  MASCULINO  29.0   \n",
       "\n",
       "   FECHA_FALLECIMIENTO  \n",
       "0  2016-01-01 00:00:00  \n",
       "1  2016-01-02 00:00:00  \n",
       "2  2016-01-03 00:00:00  \n",
       "3                  NaN  \n",
       "4  2016-02-01 00:00:00  "
      ]
     },
     "execution_count": 45,
     "metadata": {},
     "output_type": "execute_result"
    }
   ],
   "source": [
    "victimas.head()"
   ]
  },
  {
   "cell_type": "markdown",
   "metadata": {},
   "source": [
    "#### Eliminacion de columnas"
   ]
  },
  {
   "cell_type": "markdown",
   "metadata": {},
   "source": [
    "La columna FECHA será conservada, mientras que las columnas AAAA, DD, MM y FECHA_FALLECIMIENTO, que hacen referencia a información de la fecha, serán eliminadas"
   ]
  },
  {
   "cell_type": "code",
   "execution_count": 46,
   "metadata": {},
   "outputs": [],
   "source": [
    "victimas.drop(['AAAA', 'MM','DD','FECHA_FALLECIMIENTO'], axis=1 , inplace=True)"
   ]
  },
  {
   "cell_type": "markdown",
   "metadata": {},
   "source": [
    "#### Valores nulos"
   ]
  },
  {
   "cell_type": "code",
   "execution_count": 47,
   "metadata": {},
   "outputs": [
    {
     "name": "stdout",
     "output_type": "stream",
     "text": [
      "Hay 0 valores nulos en ID_hecho\n",
      "Hay 0 valores nulos en FECHA\n",
      "Hay 11 valores nulos en ROL\n",
      "Hay 9 valores nulos en VICTIMA\n",
      "Hay 6 valores nulos en SEXO\n",
      "Hay 53 valores nulos en EDAD\n"
     ]
    }
   ],
   "source": [
    "# Ahora identifico  la cantidad de valores nulos que qudaron en el dataset\n",
    "for column in victimas.columns:\n",
    "    print(f'Hay {victimas[column].isna().sum()} valores nulos en {column}')"
   ]
  },
  {
   "cell_type": "markdown",
   "metadata": {},
   "source": [
    "#### Modificacion de las columnas:\n",
    "* Renombrar columnas\n",
    "* Creacion de una nueva columna"
   ]
  },
  {
   "cell_type": "code",
   "execution_count": 48,
   "metadata": {},
   "outputs": [
    {
     "data": {
      "text/plain": [
       "Index(['id_hecho', 'fecha', 'rol_victima', 'vehiculo_victima', 'sexo_victima',\n",
       "       'edad_victima'],\n",
       "      dtype='object')"
      ]
     },
     "execution_count": 48,
     "metadata": {},
     "output_type": "execute_result"
    }
   ],
   "source": [
    "nuevos_nombres_victimas = {\n",
    "    'ID_hecho': 'id_hecho',\n",
    "    'FECHA': 'fecha',\n",
    "    'ROL': 'rol_victima',\n",
    "    'VICTIMA': 'vehiculo_victima',\n",
    "    'SEXO': 'sexo_victima',\n",
    "    'EDAD': 'edad_victima'\n",
    "}\n",
    "victimas = victimas.rename(columns= nuevos_nombres_victimas)\n",
    "victimas.columns"
   ]
  },
  {
   "cell_type": "code",
   "execution_count": 49,
   "metadata": {},
   "outputs": [
    {
     "data": {
      "text/plain": [
       "array(['MASCULINO', 'FEMENINO', nan], dtype=object)"
      ]
     },
     "execution_count": 49,
     "metadata": {},
     "output_type": "execute_result"
    }
   ],
   "source": [
    "victimas['sexo_victima'].unique()"
   ]
  },
  {
   "cell_type": "code",
   "execution_count": 50,
   "metadata": {},
   "outputs": [],
   "source": [
    "victimas['edad_victima'] = pd.to_numeric(victimas['edad_victima'], errors='coerce')\n",
    "victimas['edad_victima'].replace(np.nan, round(np.mean(victimas['edad_victima']), 0), inplace=True)"
   ]
  },
  {
   "cell_type": "code",
   "execution_count": 51,
   "metadata": {},
   "outputs": [
    {
     "data": {
      "text/plain": [
       "array([19., 70., 30., 18., 29., 22., 16., 59., 65., 34., 41., 50., 38.,\n",
       "       21., 52., 36., 20., 54., 42., 56., 24., 78., 79., 26., 57., 37.,\n",
       "       58., 23., 60., 53., 51., 40., 87., 76., 75., 35., 80., 43., 45.,\n",
       "       67., 27., 55., 49., 81., 25., 33., 46., 83., 39., 28.,  7., 48.,\n",
       "        4., 82., 32., 17., 47., 61., 10., 95., 73., 84., 66., 85.,  1.,\n",
       "       15., 13., 77., 44., 31., 62., 74., 71., 11., 86., 69., 72., 12.,\n",
       "       63., 92., 68., 91., 64.,  5., 88.])"
      ]
     },
     "execution_count": 51,
     "metadata": {},
     "output_type": "execute_result"
    }
   ],
   "source": [
    "victimas['edad_victima'].unique()"
   ]
  },
  {
   "cell_type": "markdown",
   "metadata": {},
   "source": [
    "----------------------------"
   ]
  },
  {
   "cell_type": "code",
   "execution_count": 22,
   "metadata": {},
   "outputs": [
    {
     "data": {
      "text/plain": [
       "Index(['id_hecho', 'n_victimas', 'fecha', 'hora', 'hh', 'tipo_calle', 'comuna',\n",
       "       'longitud', 'latitud', 'participantes', 'victima', 'acusado'],\n",
       "      dtype='object')"
      ]
     },
     "execution_count": 22,
     "metadata": {},
     "output_type": "execute_result"
    }
   ],
   "source": [
    "hechos.columns"
   ]
  },
  {
   "cell_type": "markdown",
   "metadata": {},
   "source": [
    "#### Procedo a ver los valores nulos y eliminarlos "
   ]
  },
  {
   "cell_type": "code",
   "execution_count": 23,
   "metadata": {},
   "outputs": [
    {
     "name": "stdout",
     "output_type": "stream",
     "text": [
      "Hay 0 valores nulos en id_hecho\n",
      "Hay 0 valores nulos en n_victimas\n",
      "Hay 0 valores nulos en fecha\n",
      "Hay 1 valores nulos en hora\n",
      "Hay 1 valores nulos en hh\n",
      "Hay 0 valores nulos en tipo_calle\n",
      "Hay 2 valores nulos en comuna\n",
      "Hay 12 valores nulos en longitud\n",
      "Hay 12 valores nulos en latitud\n",
      "Hay 5 valores nulos en participantes\n",
      "Hay 9 valores nulos en victima\n",
      "Hay 23 valores nulos en acusado\n"
     ]
    }
   ],
   "source": [
    "# Ahora identifico  la cantidad de valores nulos que qudaron en el dataset\n",
    "for column in hechos.columns:\n",
    "    print(f'Hay {hechos[column].isna().sum()} valores nulos en {column}')"
   ]
  },
  {
   "cell_type": "code",
   "execution_count": 24,
   "metadata": {},
   "outputs": [
    {
     "name": "stdout",
     "output_type": "stream",
     "text": [
      "Hay 0 valores nulos en id_hecho\n",
      "Hay 0 valores nulos en fecha\n",
      "Hay 11 valores nulos en rol_victima\n",
      "Hay 9 valores nulos en vehiculo_victima\n",
      "Hay 6 valores nulos en sexo_victima\n",
      "Hay 0 valores nulos en edad_victima\n"
     ]
    }
   ],
   "source": [
    "# Ahora identifico  la cantidad de valores nulos que qudaron en el dataset\n",
    "for column in victimas.columns:\n",
    "    print(f'Hay {victimas[column].isna().sum()} valores nulos en {column}')"
   ]
  },
  {
   "cell_type": "code",
   "execution_count": 25,
   "metadata": {},
   "outputs": [],
   "source": [
    "hechos = hechos.dropna()\n",
    "victimas = victimas.dropna()"
   ]
  },
  {
   "cell_type": "code",
   "execution_count": 26,
   "metadata": {},
   "outputs": [
    {
     "name": "stdout",
     "output_type": "stream",
     "text": [
      "Hay 0 valores nulos en id_hecho\n",
      "Hay 0 valores nulos en n_victimas\n",
      "Hay 0 valores nulos en fecha\n",
      "Hay 0 valores nulos en hora\n",
      "Hay 0 valores nulos en hh\n",
      "Hay 0 valores nulos en tipo_calle\n",
      "Hay 0 valores nulos en comuna\n",
      "Hay 0 valores nulos en longitud\n",
      "Hay 0 valores nulos en latitud\n",
      "Hay 0 valores nulos en participantes\n",
      "Hay 0 valores nulos en victima\n",
      "Hay 0 valores nulos en acusado\n"
     ]
    }
   ],
   "source": [
    "# Ahora identifico  la cantidad de valores nulos que qudaron en el dataset\n",
    "for column in hechos.columns:\n",
    "    print(f'Hay {hechos[column].isna().sum()} valores nulos en {column}')"
   ]
  },
  {
   "cell_type": "code",
   "execution_count": 27,
   "metadata": {},
   "outputs": [
    {
     "name": "stdout",
     "output_type": "stream",
     "text": [
      "Hay 0 valores nulos en id_hecho\n",
      "Hay 0 valores nulos en fecha\n",
      "Hay 0 valores nulos en rol_victima\n",
      "Hay 0 valores nulos en vehiculo_victima\n",
      "Hay 0 valores nulos en sexo_victima\n",
      "Hay 0 valores nulos en edad_victima\n"
     ]
    }
   ],
   "source": [
    "# Ahora identifico  la cantidad de valores nulos que qudaron en el dataset\n",
    "for column in victimas.columns:\n",
    "    print(f'Hay {victimas[column].isna().sum()} valores nulos en {column}')"
   ]
  },
  {
   "cell_type": "markdown",
   "metadata": {},
   "source": [
    "## Convertimos los DF a CSV"
   ]
  },
  {
   "cell_type": "code",
   "execution_count": 70,
   "metadata": {},
   "outputs": [],
   "source": [
    "hechos.to_csv('./datasets/hechos5.csv', index=False)\n",
    "\n",
    "victimas.to_csv('./datasets/victimas.csv', index=False)"
   ]
  }
 ],
 "metadata": {
  "kernelspec": {
   "display_name": "Python 3",
   "language": "python",
   "name": "python3"
  },
  "language_info": {
   "codemirror_mode": {
    "name": "ipython",
    "version": 3
   },
   "file_extension": ".py",
   "mimetype": "text/x-python",
   "name": "python",
   "nbconvert_exporter": "python",
   "pygments_lexer": "ipython3",
   "version": "3.11.9"
  }
 },
 "nbformat": 4,
 "nbformat_minor": 2
}
